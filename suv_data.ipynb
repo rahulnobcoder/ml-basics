/* first code is of suvdata logistic regression second is of decision tree
*/

/*import pandas as pd
import numpy as np
import openpyxl as op
suv=pd.read_csv('suv_data.csv')
suv

x=suv.iloc[:,[2,3]].values
y=suv['Purchased']
x
from sklearn.model_selection import train_test_split
from sklearn.metrics import accuracy_score
xtrain,xtest,ytrain,ytest = train_test_split(X,y, test_size = 0.6)
from sklearn.preprocessing import StandardScaler
sc = StandardScaler()
xtrain=sc.fit_transform(xtrain)
xtest = sc.transform(xtest)
from sklearn.linear_model import LogisticRegression 
helo=LogisticRegression()
helo.fit(xtrain,ytrain)
d=helo.predict(xtest)
accuracy_score(ytest,d)
*/


import pandas as pd
from sklearn.metrics import accuracy_score
from sklearn.model_selection import train_test_split
from sklearn.tree import DecisionTreeClassifier

suv=pd.read_csv('suv_data.csv')
suv.shape
suv.head(5)
x=suv.iloc[:,[2,3]]
y=suv['Purchased']
model = DecisionTreeClassifier()
xtrain,xtest,ytrain,ytest=train_test_split(x,y, test_size=0.6)
model.fit(xtrain,ytrain)
y1=model.predict(xtest)
accuracy_score(ytest,y1)
