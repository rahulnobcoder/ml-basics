{
 "cells": [
  {
   "cell_type": "code",
   "execution_count": 11,
   "id": "a1403b9e",
   "metadata": {},
   "outputs": [
    {
     "name": "stdout",
     "output_type": "stream",
     "text": [
      "enter name of file    ds_salaries.csv\n",
      "enter data which you want to predictcompany_size\n",
      "how much is to be allocated for training0.1\n"
     ]
    },
    {
     "data": {
      "text/plain": [
       "0.5245901639344263"
      ]
     },
     "execution_count": 11,
     "metadata": {},
     "output_type": "execute_result"
    }
   ],
   "source": [
    "import pandas as p\n",
    "from sklearn.tree import DecisionTreeClassifier\n",
    "import openpyxl as op\n",
    "from sklearn.model_selection import train_test_split\n",
    "from sklearn.metrics import accuracy_score\n",
    "c=input(\"enter name of file    \")\n",
    "job = p.read_csv(c)\n",
    "d=input(\"enter data which you want to predict\")\n",
    "X=job.drop(columns = [d])\n",
    "y = job[d]\n",
    "e=float(input(\"how much is to be allocated for training\"))\n",
    "X_train,X_test,y_train,y_test =train_test_split(X,y,test_size= e)\n",
    "model =  DecisionTreeClassifier()\n",
    "model.fit(X_train,y_train)\n",
    "predict = model.predict(X_test)\n",
    "accuracy_score(y_test,predict)"
   ]
  }
 ],
 "metadata": {
  "kernelspec": {
   "display_name": "Python 3 (ipykernel)",
   "language": "python",
   "name": "python3"
  },
  "language_info": {
   "codemirror_mode": {
    "name": "ipython",
    "version": 3
   },
   "file_extension": ".py",
   "mimetype": "text/x-python",
   "name": "python",
   "nbconvert_exporter": "python",
   "pygments_lexer": "ipython3",
   "version": "3.9.12"
  }
 },
 "nbformat": 4,
 "nbformat_minor": 5
}
