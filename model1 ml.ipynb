{
 "cells": [
  {
   "cell_type": "code",
   "execution_count": 33,
   "id": "b001dc55",
   "metadata": {},
   "outputs": [
    {
     "ename": "ValueError",
     "evalue": "Cannot convert 81     L\n556    M\n68     S\n14     L\n328    M\n601    M\n255    M\n23     M\n407    L\n246    L\n119    L\n602    M\n397    M\n436    M\n221    L\n50     S\n324    L\n118    S\n331    M\n21     L\n584    M\n76     M\n242    L\n471    M\n540    M\n94     L\n595    M\n299    M\n448    M\n501    S\n230    L\n593    M\n422    M\n512    S\n193    L\n530    M\n534    M\n42     M\n96     S\n117    M\n498    L\n604    M\n394    M\n314    M\n128    S\n216    S\n568    M\n409    M\n303    M\n519    L\n514    M\n208    L\n428    L\n581    M\n381    M\n474    M\n548    M\n111    M\n496    M\n594    M\nName: company_size, dtype: object to Excel",
     "output_type": "error",
     "traceback": [
      "\u001b[1;31m---------------------------------------------------------------------------\u001b[0m",
      "\u001b[1;31mValueError\u001b[0m                                Traceback (most recent call last)",
      "Input \u001b[1;32mIn [33]\u001b[0m, in \u001b[0;36m<cell line: 21>\u001b[1;34m()\u001b[0m\n\u001b[0;32m     21\u001b[0m \u001b[38;5;28;01mfor\u001b[39;00m i \u001b[38;5;129;01min\u001b[39;00m \u001b[38;5;28mrange\u001b[39m(\u001b[38;5;241m2\u001b[39m,sheet\u001b[38;5;241m.\u001b[39mmax_row\u001b[38;5;241m+\u001b[39m\u001b[38;5;241m1\u001b[39m):\n\u001b[0;32m     22\u001b[0m     cell\u001b[38;5;241m=\u001b[39msheet\u001b[38;5;241m.\u001b[39mcell(i,\u001b[38;5;241m1\u001b[39m) \n\u001b[1;32m---> 23\u001b[0m     cell\u001b[38;5;241m.\u001b[39mvalue \u001b[38;5;241m=\u001b[39m y_train\n\u001b[0;32m     25\u001b[0m \u001b[38;5;28;01mfor\u001b[39;00m i \u001b[38;5;129;01min\u001b[39;00m \u001b[38;5;28mrange\u001b[39m(\u001b[38;5;241m2\u001b[39m,sheet\u001b[38;5;241m.\u001b[39mmax_row\u001b[38;5;241m+\u001b[39m\u001b[38;5;241m1\u001b[39m):\n\u001b[0;32m     26\u001b[0m     cell\u001b[38;5;241m=\u001b[39msheet\u001b[38;5;241m.\u001b[39mcell(i,\u001b[38;5;241m2\u001b[39m) \n",
      "File \u001b[1;32mD:\\anakonda\\lib\\site-packages\\openpyxl\\cell\\cell.py:215\u001b[0m, in \u001b[0;36mCell.value\u001b[1;34m(self, value)\u001b[0m\n\u001b[0;32m    212\u001b[0m \u001b[38;5;129m@value\u001b[39m\u001b[38;5;241m.\u001b[39msetter\n\u001b[0;32m    213\u001b[0m \u001b[38;5;28;01mdef\u001b[39;00m \u001b[38;5;21mvalue\u001b[39m(\u001b[38;5;28mself\u001b[39m, value):\n\u001b[0;32m    214\u001b[0m     \u001b[38;5;124;03m\"\"\"Set the value and infer type and display options.\"\"\"\u001b[39;00m\n\u001b[1;32m--> 215\u001b[0m     \u001b[38;5;28;43mself\u001b[39;49m\u001b[38;5;241;43m.\u001b[39;49m\u001b[43m_bind_value\u001b[49m\u001b[43m(\u001b[49m\u001b[43mvalue\u001b[49m\u001b[43m)\u001b[49m\n",
      "File \u001b[1;32mD:\\anakonda\\lib\\site-packages\\openpyxl\\cell\\cell.py:184\u001b[0m, in \u001b[0;36mCell._bind_value\u001b[1;34m(self, value)\u001b[0m\n\u001b[0;32m    181\u001b[0m     dt \u001b[38;5;241m=\u001b[39m get_type(t, value)\n\u001b[0;32m    183\u001b[0m \u001b[38;5;28;01mif\u001b[39;00m dt \u001b[38;5;129;01mis\u001b[39;00m \u001b[38;5;28;01mNone\u001b[39;00m \u001b[38;5;129;01mand\u001b[39;00m value \u001b[38;5;129;01mis\u001b[39;00m \u001b[38;5;129;01mnot\u001b[39;00m \u001b[38;5;28;01mNone\u001b[39;00m:\n\u001b[1;32m--> 184\u001b[0m     \u001b[38;5;28;01mraise\u001b[39;00m \u001b[38;5;167;01mValueError\u001b[39;00m(\u001b[38;5;124m\"\u001b[39m\u001b[38;5;124mCannot convert \u001b[39m\u001b[38;5;132;01m{0!r}\u001b[39;00m\u001b[38;5;124m to Excel\u001b[39m\u001b[38;5;124m\"\u001b[39m\u001b[38;5;241m.\u001b[39mformat(value))\n\u001b[0;32m    186\u001b[0m \u001b[38;5;28;01mif\u001b[39;00m dt:\n\u001b[0;32m    187\u001b[0m     \u001b[38;5;28mself\u001b[39m\u001b[38;5;241m.\u001b[39mdata_type \u001b[38;5;241m=\u001b[39m dt\n",
      "\u001b[1;31mValueError\u001b[0m: Cannot convert 81     L\n556    M\n68     S\n14     L\n328    M\n601    M\n255    M\n23     M\n407    L\n246    L\n119    L\n602    M\n397    M\n436    M\n221    L\n50     S\n324    L\n118    S\n331    M\n21     L\n584    M\n76     M\n242    L\n471    M\n540    M\n94     L\n595    M\n299    M\n448    M\n501    S\n230    L\n593    M\n422    M\n512    S\n193    L\n530    M\n534    M\n42     M\n96     S\n117    M\n498    L\n604    M\n394    M\n314    M\n128    S\n216    S\n568    M\n409    M\n303    M\n519    L\n514    M\n208    L\n428    L\n581    M\n381    M\n474    M\n548    M\n111    M\n496    M\n594    M\nName: company_size, dtype: object to Excel"
     ]
    }
   ],
   "source": [
    "import pandas as p\n",
    "from sklearn.tree import DecisionTreeClassifier\n",
    "import openpyxl as op\n",
    "from sklearn.model_selection import train_test_split\n",
    "from sklearn.metrics import accuracy_score\n",
    "job = p.read_csv(\"ds_salaries.csv\")\n",
    "X=job.drop(columns = [\"company_size\"])\n",
    "y = job['company_size']\n",
    "\n",
    "X_train,X_test,y_train,y_test =train_test_split(X,y,test_size= 0.9)\n",
    "model =  DecisionTreeClassifier()\n",
    "model.fit(X_train,y_train)\n",
    "predict = model.predict(X_test)\n",
    "\n",
    "\n",
    "\n",
    "\n",
    "\n",
    "xl= op.load_workbook('rhul.xlsx')\n",
    "sheet = xl['Sheet1']\n",
    "for i in range(2,sheet.max_row+1):\n",
    "    cell=sheet.cell(i,1) \n",
    "    cell.value = y_train\n",
    "    \n",
    "for i in range(2,sheet.max_row+1):\n",
    "    cell=sheet.cell(i,2) \n",
    "    cell.value = predict\n",
    "xl.save('rhul2.xlsx')\n",
    "\n",
    "\n",
    "\n",
    "accuracy_score(y_test,predict)"
   ]
  }
 ],
 "metadata": {
  "kernelspec": {
   "display_name": "Python 3 (ipykernel)",
   "language": "python",
   "name": "python3"
  },
  "language_info": {
   "codemirror_mode": {
    "name": "ipython",
    "version": 3
   },
   "file_extension": ".py",
   "mimetype": "text/x-python",
   "name": "python",
   "nbconvert_exporter": "python",
   "pygments_lexer": "ipython3",
   "version": "3.9.12"
  },
  "vscode": {
   "interpreter": {
    "hash": "032210c8b03a832ec68c62b94f548581615942970b92ab542ca6d614f231eef3"
   }
  }
 },
 "nbformat": 4,
 "nbformat_minor": 5
}
